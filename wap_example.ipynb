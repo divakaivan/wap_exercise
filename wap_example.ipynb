{
 "cells": [
  {
   "cell_type": "code",
   "execution_count": 1,
   "id": "5af67192",
   "metadata": {
    "scrolled": true
   },
   "outputs": [
    {
     "name": "stdout",
     "output_type": "stream",
     "text": [
      ":: loading settings :: url = jar:file:/home/docker/.local/lib/python3.10/site-packages/pyspark/jars/ivy-2.5.0.jar!/org/apache/ivy/core/settings/ivysettings.xml\n"
     ]
    },
    {
     "name": "stderr",
     "output_type": "stream",
     "text": [
      "Ivy Default Cache set to: /home/docker/.ivy2/cache\n",
      "The jars for the packages stored in: /home/docker/.ivy2/jars\n",
      "org.apache.iceberg#iceberg-spark-runtime-3.3_2.12 added as a dependency\n",
      "org.projectnessie.nessie-integrations#nessie-spark-extensions-3.3_2.12 added as a dependency\n",
      "software.amazon.awssdk#bundle added as a dependency\n",
      "software.amazon.awssdk#url-connection-client added as a dependency\n",
      ":: resolving dependencies :: org.apache.spark#spark-submit-parent-61f14396-19d2-4762-938c-61c1eccfcd27;1.0\n",
      "\tconfs: [default]\n",
      "\tfound org.apache.iceberg#iceberg-spark-runtime-3.3_2.12;1.3.1 in central\n",
      "\tfound org.projectnessie.nessie-integrations#nessie-spark-extensions-3.3_2.12;0.67.0 in central\n",
      "\tfound software.amazon.awssdk#bundle;2.17.178 in central\n",
      "\tfound software.amazon.eventstream#eventstream;1.0.1 in central\n",
      "\tfound software.amazon.awssdk#url-connection-client;2.17.178 in central\n",
      "\tfound software.amazon.awssdk#utils;2.17.178 in central\n",
      "\tfound org.reactivestreams#reactive-streams;1.0.3 in central\n",
      "\tfound software.amazon.awssdk#annotations;2.17.178 in central\n",
      "\tfound org.slf4j#slf4j-api;1.7.30 in central\n",
      "\tfound software.amazon.awssdk#http-client-spi;2.17.178 in central\n",
      "\tfound software.amazon.awssdk#metrics-spi;2.17.178 in central\n",
      "downloading https://repo1.maven.org/maven2/org/apache/iceberg/iceberg-spark-runtime-3.3_2.12/1.3.1/iceberg-spark-runtime-3.3_2.12-1.3.1.jar ...\n",
      "\t[SUCCESSFUL ] org.apache.iceberg#iceberg-spark-runtime-3.3_2.12;1.3.1!iceberg-spark-runtime-3.3_2.12.jar (3063ms)\n",
      "downloading https://repo1.maven.org/maven2/org/projectnessie/nessie-integrations/nessie-spark-extensions-3.3_2.12/0.67.0/nessie-spark-extensions-3.3_2.12-0.67.0.jar ...\n",
      "\t[SUCCESSFUL ] org.projectnessie.nessie-integrations#nessie-spark-extensions-3.3_2.12;0.67.0!nessie-spark-extensions-3.3_2.12.jar (506ms)\n",
      "downloading https://repo1.maven.org/maven2/software/amazon/awssdk/bundle/2.17.178/bundle-2.17.178.jar ...\n",
      "\t[SUCCESSFUL ] software.amazon.awssdk#bundle;2.17.178!bundle.jar (29919ms)\n",
      "downloading https://repo1.maven.org/maven2/software/amazon/awssdk/url-connection-client/2.17.178/url-connection-client-2.17.178.jar ...\n",
      "\t[SUCCESSFUL ] software.amazon.awssdk#url-connection-client;2.17.178!url-connection-client.jar (264ms)\n",
      "downloading https://repo1.maven.org/maven2/software/amazon/eventstream/eventstream/1.0.1/eventstream-1.0.1.jar ...\n",
      "\t[SUCCESSFUL ] software.amazon.eventstream#eventstream;1.0.1!eventstream.jar (255ms)\n",
      "downloading https://repo1.maven.org/maven2/software/amazon/awssdk/utils/2.17.178/utils-2.17.178.jar ...\n",
      "\t[SUCCESSFUL ] software.amazon.awssdk#utils;2.17.178!utils.jar (267ms)\n",
      "downloading https://repo1.maven.org/maven2/software/amazon/awssdk/annotations/2.17.178/annotations-2.17.178.jar ...\n",
      "\t[SUCCESSFUL ] software.amazon.awssdk#annotations;2.17.178!annotations.jar (249ms)\n",
      "downloading https://repo1.maven.org/maven2/software/amazon/awssdk/http-client-spi/2.17.178/http-client-spi-2.17.178.jar ...\n",
      "\t[SUCCESSFUL ] software.amazon.awssdk#http-client-spi;2.17.178!http-client-spi.jar (254ms)\n",
      "downloading https://repo1.maven.org/maven2/org/reactivestreams/reactive-streams/1.0.3/reactive-streams-1.0.3.jar ...\n",
      "\t[SUCCESSFUL ] org.reactivestreams#reactive-streams;1.0.3!reactive-streams.jar (247ms)\n",
      "downloading https://repo1.maven.org/maven2/org/slf4j/slf4j-api/1.7.30/slf4j-api-1.7.30.jar ...\n",
      "\t[SUCCESSFUL ] org.slf4j#slf4j-api;1.7.30!slf4j-api.jar (260ms)\n",
      "downloading https://repo1.maven.org/maven2/software/amazon/awssdk/metrics-spi/2.17.178/metrics-spi-2.17.178.jar ...\n",
      "\t[SUCCESSFUL ] software.amazon.awssdk#metrics-spi;2.17.178!metrics-spi.jar (294ms)\n",
      ":: resolution report :: resolve 10562ms :: artifacts dl 35641ms\n",
      "\t:: modules in use:\n",
      "\torg.apache.iceberg#iceberg-spark-runtime-3.3_2.12;1.3.1 from central in [default]\n",
      "\torg.projectnessie.nessie-integrations#nessie-spark-extensions-3.3_2.12;0.67.0 from central in [default]\n",
      "\torg.reactivestreams#reactive-streams;1.0.3 from central in [default]\n",
      "\torg.slf4j#slf4j-api;1.7.30 from central in [default]\n",
      "\tsoftware.amazon.awssdk#annotations;2.17.178 from central in [default]\n",
      "\tsoftware.amazon.awssdk#bundle;2.17.178 from central in [default]\n",
      "\tsoftware.amazon.awssdk#http-client-spi;2.17.178 from central in [default]\n",
      "\tsoftware.amazon.awssdk#metrics-spi;2.17.178 from central in [default]\n",
      "\tsoftware.amazon.awssdk#url-connection-client;2.17.178 from central in [default]\n",
      "\tsoftware.amazon.awssdk#utils;2.17.178 from central in [default]\n",
      "\tsoftware.amazon.eventstream#eventstream;1.0.1 from central in [default]\n",
      "\t---------------------------------------------------------------------\n",
      "\t|                  |            modules            ||   artifacts   |\n",
      "\t|       conf       | number| search|dwnlded|evicted|| number|dwnlded|\n",
      "\t---------------------------------------------------------------------\n",
      "\t|      default     |   11  |   11  |   11  |   0   ||   11  |   11  |\n",
      "\t---------------------------------------------------------------------\n",
      ":: retrieving :: org.apache.spark#spark-submit-parent-61f14396-19d2-4762-938c-61c1eccfcd27\n",
      "\tconfs: [default]\n",
      "\t11 artifacts copied, 0 already retrieved (367715kB/444ms)\n"
     ]
    },
    {
     "name": "stdout",
     "output_type": "stream",
     "text": [
      "24/12/11 07:48:19 WARN NativeCodeLoader: Unable to load native-hadoop library for your platform... using builtin-java classes where applicable\n"
     ]
    },
    {
     "name": "stderr",
     "output_type": "stream",
     "text": [
      "Setting default log level to \"WARN\".\n",
      "To adjust logging level use sc.setLogLevel(newLevel). For SparkR, use setLogLevel(newLevel).\n"
     ]
    },
    {
     "name": "stdout",
     "output_type": "stream",
     "text": [
      "Spark Running\n"
     ]
    },
    {
     "name": "stderr",
     "output_type": "stream",
     "text": [
      "SLF4J: Failed to load class \"org.slf4j.impl.StaticLoggerBinder\".\n",
      "SLF4J: Defaulting to no-operation (NOP) logger implementation\n",
      "SLF4J: See http://www.slf4j.org/codes.html#StaticLoggerBinder for further details.\n"
     ]
    },
    {
     "name": "stdout",
     "output_type": "stream",
     "text": [
      "++\n",
      "||\n",
      "++\n",
      "++\n",
      "\n"
     ]
    },
    {
     "name": "stderr",
     "output_type": "stream",
     "text": [
      "                                                                                \r"
     ]
    },
    {
     "name": "stdout",
     "output_type": "stream",
     "text": [
      "++\n",
      "||\n",
      "++\n",
      "++\n",
      "\n"
     ]
    },
    {
     "name": "stderr",
     "output_type": "stream",
     "text": [
      "[Stage 1:>                                                          (0 + 1) / 1]\r"
     ]
    },
    {
     "name": "stdout",
     "output_type": "stream",
     "text": [
      "+-----------+\n",
      "|       name|\n",
      "+-----------+\n",
      "|Alex Merced|\n",
      "|Zach Wilson|\n",
      "|Ivan Ivanov|\n",
      "+-----------+\n",
      "\n"
     ]
    },
    {
     "name": "stderr",
     "output_type": "stream",
     "text": [
      "                                                                                \r"
     ]
    }
   ],
   "source": [
    "import pyspark\n",
    "from pyspark.sql import SparkSession\n",
    "import os\n",
    "\n",
    "# import secrets\n",
    "NESSIE_URI = os.environ.get(\"NESSIE_URI\") \n",
    "WAREHOUSE = os.environ.get(\"WAREHOUSE\")\n",
    "AWS_ACCESS_KEY = os.environ.get(\"AWS_ACCESS_KEY\") \n",
    "AWS_SECRET_KEY = os.environ.get(\"AWS_SECRET_KEY\") \n",
    "AWS_S3_ENDPOINT= os.environ.get(\"AWS_S3_ENDPOINT\")\n",
    "\n",
    "conf = (\n",
    "    pyspark.SparkConf()\n",
    "        .setAppName('app_name')\n",
    "        .set('spark.jars.packages', 'org.apache.iceberg:iceberg-spark-runtime-3.3_2.12:1.3.1,org.projectnessie.nessie-integrations:nessie-spark-extensions-3.3_2.12:0.67.0,software.amazon.awssdk:bundle:2.17.178,software.amazon.awssdk:url-connection-client:2.17.178')\n",
    "        .set('spark.sql.extensions', 'org.apache.iceberg.spark.extensions.IcebergSparkSessionExtensions,org.projectnessie.spark.extensions.NessieSparkSessionExtensions')\n",
    "        .set('spark.sql.catalog.nessie', 'org.apache.iceberg.spark.SparkCatalog')\n",
    "        .set('spark.sql.catalog.nessie.uri', NESSIE_URI)\n",
    "        .set('spark.sql.catalog.nessie.ref', 'main')\n",
    "        .set('spark.sql.catalog.nessie.authentication.type', 'NONE')\n",
    "        .set('spark.sql.catalog.nessie.catalog-impl', 'org.apache.iceberg.nessie.NessieCatalog')\n",
    "        .set('spark.sql.catalog.nessie.s3.endpoint', AWS_S3_ENDPOINT)\n",
    "        .set('spark.sql.catalog.nessie.warehouse', WAREHOUSE)\n",
    "        .set('spark.sql.catalog.nessie.io-impl', 'org.apache.iceberg.aws.s3.S3FileIO')\n",
    "        .set('spark.hadoop.fs.s3a.access.key', AWS_ACCESS_KEY)\n",
    "        .set('spark.hadoop.fs.s3a.secret.key', AWS_SECRET_KEY)\n",
    ")\n",
    "\n",
    "# start a spark session\n",
    "spark = SparkSession.builder.config(conf=conf).getOrCreate()\n",
    "print(\"Spark Running\")\n",
    "\n",
    "# create a sample table\n",
    "spark.sql(\"CREATE TABLE nessie.names (name STRING) USING iceberg;\").show()\n",
    "\n",
    "# insert some data\n",
    "spark.sql(\"INSERT INTO nessie.names VALUES ('Alex Merced'), ('Zach Wilson'), ('Ivan Ivanov')\").show()\n",
    "\n",
    "# query the data\n",
    "spark.sql(\"SELECT * FROM nessie.names\").show()"
   ]
  },
  {
   "attachments": {
    "image.png": {
     "image/png": "[encoded data removed]"
    }
   },
   "cell_type": "markdown",
   "id": "6b76fbaf",
   "metadata": {},
   "source": [
    "![image.png](attachment:image.png)\n",
    "\n",
    "*Source: Apache Iceberg: The Definitive Guide - Chapter 10*"
   ]
  },
  {
   "cell_type": "markdown",
   "id": "8b5b2c2b",
   "metadata": {},
   "source": [
    "### Steps in the graph\n",
    "\n",
    "1. Create a branch \n",
    "2. Write the newly coming data to that branch\n",
    "3. Audit the data on that new branch\n",
    "4. Apply fixes if needed\n",
    "5. Publish the data"
   ]
  },
  {
   "cell_type": "markdown",
   "id": "63fbf731",
   "metadata": {},
   "source": [
    "### 0. Exercise setup"
   ]
  },
  {
   "cell_type": "code",
   "execution_count": 2,
   "id": "239e69a9",
   "metadata": {},
   "outputs": [
    {
     "name": "stderr",
     "output_type": "stream",
     "text": [
      "                                                                                \r"
     ]
    }
   ],
   "source": [
    "df = spark.read.csv(\"sampledata/Worker_Coops.csv\", header=True, inferSchema=True)"
   ]
  },
  {
   "cell_type": "code",
   "execution_count": 3,
   "id": "fd03ec07",
   "metadata": {},
   "outputs": [
    {
     "name": "stdout",
     "output_type": "stream",
     "text": [
      "root\n",
      " |-- Business Name (DBA): string (nullable = true)\n",
      " |-- Address1: string (nullable = true)\n",
      " |-- Address2: string (nullable = true)\n",
      " |-- City: string (nullable = true)\n",
      " |-- State: string (nullable = true)\n",
      " |-- Zip: string (nullable = true)\n",
      " |-- Community Board: string (nullable = true)\n",
      " |-- NAICS Code: string (nullable = true)\n",
      " |-- Number of Worker-Owners: integer (nullable = true)\n",
      " |-- Number of Non-Member Worker-Owners: integer (nullable = true)\n",
      " |-- Subtype: string (nullable = true)\n",
      " |-- Borough: string (nullable = true)\n",
      " |-- Latitude: double (nullable = true)\n",
      " |-- Longitude: double (nullable = true)\n",
      " |-- City Council: integer (nullable = true)\n",
      " |-- Census Tract: integer (nullable = true)\n",
      " |-- BIN: integer (nullable = true)\n",
      " |-- BBL: long (nullable = true)\n",
      " |-- NTA: string (nullable = true)\n",
      "\n"
     ]
    }
   ],
   "source": [
    "df.printSchema()"
   ]
  },
  {
   "cell_type": "markdown",
   "id": "dfea5c02",
   "metadata": {},
   "source": [
    "#### Create an iceberg table and insert sample data\n",
    "\n",
    "For the sake of the exercise, we create this table and insert some data in it. However, we can image the table already exists in production and we want to add new data to it, and before we add it we need to go through the WAP process."
   ]
  },
  {
   "cell_type": "code",
   "execution_count": 4,
   "id": "7447fb34",
   "metadata": {},
   "outputs": [
    {
     "data": {
      "text/plain": [
       "DataFrame[]"
      ]
     },
     "execution_count": 4,
     "metadata": {},
     "output_type": "execute_result"
    }
   ],
   "source": [
    "spark.sql(\"\"\"\n",
    "CREATE TABLE nessie.businessdata (\n",
    "    `Business Name (DBA)` STRING,\n",
    "    `Address1` STRING,\n",
    "    `Address2` STRING,\n",
    "    `City` STRING,\n",
    "    `State` STRING,\n",
    "    `Zip` STRING,\n",
    "    `Community Board` STRING,\n",
    "    `NAICS Code` STRING,\n",
    "    `Number of Worker-Owners` INT,\n",
    "    `Number of Non-Member Worker-Owners` INT,\n",
    "    `Subtype` STRING,\n",
    "    `Borough` STRING,\n",
    "    `Latitude` DOUBLE,\n",
    "    `Longitude` DOUBLE,\n",
    "    `City Council` INT,\n",
    "    `Census Tract` INT,\n",
    "    `BIN` INT,\n",
    "    `BBL` BIGINT,\n",
    "    `NTA` STRING\n",
    ") USING iceberg;\n",
    "\"\"\")"
   ]
  },
  {
   "cell_type": "code",
   "execution_count": 5,
   "id": "7fc3f862",
   "metadata": {},
   "outputs": [
    {
     "name": "stderr",
     "output_type": "stream",
     "text": [
      "                                                                                \r"
     ]
    }
   ],
   "source": [
    "df_pre, df_new = df.randomSplit([0.5, 0.5], seed=42)\n",
    "\n",
    "df_pre.writeTo(\"nessie.businessdata\").append()"
   ]
  },
  {
   "cell_type": "code",
   "execution_count": 6,
   "id": "21251e67",
   "metadata": {
    "scrolled": true
   },
   "outputs": [
    {
     "name": "stdout",
     "output_type": "stream",
     "text": [
      "+-------------------+---------------+--------+--------+-----+-----+---------------+--------------------+-----------------------+----------------------------------+--------+--------+---------+---------+------------+------------+-------+----------+----------------+\n",
      "|Business Name (DBA)|       Address1|Address2|    City|State|  Zip|Community Board|          NAICS Code|Number of Worker-Owners|Number of Non-Member Worker-Owners| Subtype| Borough| Latitude|Longitude|City Council|Census Tract|    BIN|       BBL|             NTA|\n",
      "+-------------------+---------------+--------+--------+-----+-----+---------------+--------------------+-----------------------+----------------------------------+--------+--------+---------+---------+------------+------------+-------+----------+----------------+\n",
      "|          ActionOSH|443 39th Street|    null|Brooklyn|   NY|11232|     7 BROOKLYN|Educational Suppo...|                      3|                                 1|Coaching|BROOKLYN|40.652001|-74.00511|          38|          84|3396141|3007050059|Sunset Park West|\n",
      "+-------------------+---------------+--------+--------+-----+-----+---------------+--------------------+-----------------------+----------------------------------+--------+--------+---------+---------+------------+------------+-------+----------+----------------+\n",
      "only showing top 1 row\n",
      "\n"
     ]
    }
   ],
   "source": [
    "# check the data is in\n",
    "spark.sql(\"\"\"SELECT * FROM nessie.businessdata\"\"\").show(1)"
   ]
  },
  {
   "cell_type": "markdown",
   "id": "cd106ca6",
   "metadata": {},
   "source": [
    "We are ready to start the WAP exercise by following the steps from the graph from above"
   ]
  },
  {
   "cell_type": "markdown",
   "id": "5f26ed46",
   "metadata": {},
   "source": [
    "### 1. Create a new branch off of production"
   ]
  },
  {
   "cell_type": "code",
   "execution_count": 145,
   "id": "81a92d67",
   "metadata": {
    "scrolled": true
   },
   "outputs": [
    {
     "name": "stdout",
     "output_type": "stream",
     "text": [
      "24/12/11 08:49:08 WARN BaseTransaction: Failed to load metadata for a committed snapshot, skipping clean-up\n",
      "++\n",
      "||\n",
      "++\n",
      "++\n",
      "\n"
     ]
    }
   ],
   "source": [
    "# create a new branch on the table called 'dq_branch'\n",
    "spark.sql(\"ALTER TABLE nessie.businessdata CREATE BRANCH dq_branch\").show()"
   ]
  },
  {
   "cell_type": "code",
   "execution_count": 146,
   "id": "b61a3541",
   "metadata": {},
   "outputs": [
    {
     "name": "stdout",
     "output_type": "stream",
     "text": [
      "+---------+------+-------------------+-----------------------+---------------------+----------------------+\n",
      "|     name|  type|        snapshot_id|max_reference_age_in_ms|min_snapshots_to_keep|max_snapshot_age_in_ms|\n",
      "+---------+------+-------------------+-----------------------+---------------------+----------------------+\n",
      "|     main|BRANCH|3872957193495449871|                   null|                 null|                  null|\n",
      "|dq_branch|BRANCH|3872957193495449871|                   null|                 null|                  null|\n",
      "+---------+------+-------------------+-----------------------+---------------------+----------------------+\n",
      "\n"
     ]
    }
   ],
   "source": [
    "# we can check the branches available for the table. At the moment they are the same as no changes are made\n",
    "spark.sql(\"SELECT * FROM nessie.businessdata.refs\").show()"
   ]
  },
  {
   "cell_type": "code",
   "execution_count": 147,
   "id": "8c29ea30",
   "metadata": {
    "scrolled": true
   },
   "outputs": [
    {
     "name": "stdout",
     "output_type": "stream",
     "text": [
      "+-------------+\n",
      "|total_records|\n",
      "+-------------+\n",
      "|          154|\n",
      "+-------------+\n",
      "\n"
     ]
    }
   ],
   "source": [
    "# get a count of all records in the table BEFORE the new data comes in (just for reference)\n",
    "spark.sql(\"SELECT COUNT(*) as total_records FROM nessie.businessdata\").show()"
   ]
  },
  {
   "cell_type": "markdown",
   "id": "df4ced2d",
   "metadata": {},
   "source": [
    "### 2. Write new data"
   ]
  },
  {
   "cell_type": "code",
   "execution_count": 148,
   "id": "46d291d4",
   "metadata": {},
   "outputs": [
    {
     "data": {
      "text/plain": [
       "DataFrame[]"
      ]
     },
     "execution_count": 148,
     "metadata": {},
     "output_type": "execute_result"
    }
   ],
   "source": [
    "# setting the table for WAP\n",
    "spark.conf.set('spark.wap.branch', 'dq_branch')\n",
    "\n",
    "# enable the Apache Iceberg WAP feature\n",
    "spark.sql(\"ALTER TABLE nessie.businessdata SET TBLPROPERTIES ('write.wap.enabled'='true')\")"
   ]
  },
  {
   "cell_type": "code",
   "execution_count": 149,
   "id": "3ec2746a",
   "metadata": {},
   "outputs": [
    {
     "name": "stderr",
     "output_type": "stream",
     "text": [
      "                                                                                \r"
     ]
    },
    {
     "data": {
      "text/plain": [
       "DataFrame[]"
      ]
     },
     "execution_count": 149,
     "metadata": {},
     "output_type": "execute_result"
    }
   ],
   "source": [
    "df_new.createOrReplaceTempView(\"temp_new_data\")\n",
    "spark.sql(\"INSERT INTO nessie.businessdata SELECT * FROM temp_new_data\")"
   ]
  },
  {
   "cell_type": "code",
   "execution_count": 150,
   "id": "eb582ec2",
   "metadata": {},
   "outputs": [
    {
     "name": "stdout",
     "output_type": "stream",
     "text": [
      "+-------------+\n",
      "|total_records|\n",
      "+-------------+\n",
      "|          298|\n",
      "+-------------+\n",
      "\n"
     ]
    }
   ],
   "source": [
    "# check the data is inserted by checking the row count\n",
    "spark.sql(\"SELECT COUNT(*) as total_records FROM nessie.businessdata\").show()"
   ]
  },
  {
   "cell_type": "code",
   "execution_count": 151,
   "id": "32d7b3dd",
   "metadata": {},
   "outputs": [
    {
     "name": "stdout",
     "output_type": "stream",
     "text": [
      "+-------------+\n",
      "|total_records|\n",
      "+-------------+\n",
      "|          154|\n",
      "+-------------+\n",
      "\n"
     ]
    }
   ],
   "source": [
    "# lets confirm that we only inserted data on the dq_branch\n",
    "# the count in the main branch should be the same as before (154)\n",
    "spark.sql(\"SELECT COUNT(*) as total_records FROM nessie.businessdata VERSION AS OF 'main'\").show()"
   ]
  },
  {
   "cell_type": "code",
   "execution_count": 152,
   "id": "ee585c7d",
   "metadata": {},
   "outputs": [
    {
     "name": "stdout",
     "output_type": "stream",
     "text": [
      "+-------------+\n",
      "|total_records|\n",
      "+-------------+\n",
      "|          298|\n",
      "+-------------+\n",
      "\n"
     ]
    }
   ],
   "source": [
    "# and the count on the dq_branch should be higher\n",
    "spark.sql(\"SELECT COUNT(*) as total_records FROM nessie.businessdata VERSION AS OF 'dq_branch'\").show()"
   ]
  },
  {
   "cell_type": "markdown",
   "id": "d573e84e",
   "metadata": {},
   "source": [
    "### 3. Audit the data"
   ]
  },
  {
   "cell_type": "code",
   "execution_count": 153,
   "id": "11c3a220",
   "metadata": {
    "scrolled": true
   },
   "outputs": [
    {
     "name": "stdout",
     "output_type": "stream",
     "text": [
      "+-------------------+--------+--------+----+-----+---+---------------+----------+-----------------------+----------------------------------+-------+-------+--------+---------+------------+------------+---+---+---+\n",
      "|Business Name (DBA)|Address1|Address2|City|State|Zip|Community Board|NAICS Code|Number of Worker-Owners|Number of Non-Member Worker-Owners|Subtype|Borough|Latitude|Longitude|City Council|Census Tract|BIN|BBL|NTA|\n",
      "+-------------------+--------+--------+----+-----+---+---------------+----------+-----------------------+----------------------------------+-------+-------+--------+---------+------------+------------+---+---+---+\n",
      "|                  0|       9|     289|  11|   11| 11|             35|        24|                     43|                               198|     21|     34|      34|       34|          34|          34| 34| 34| 34|\n",
      "+-------------------+--------+--------+----+-----+---+---------------+----------+-----------------------+----------------------------------+-------+-------+--------+---------+------------+------------+---+---+---+\n",
      "\n"
     ]
    }
   ],
   "source": [
    "from pyspark.sql import functions as F\n",
    "\n",
    "# load the data\n",
    "df_dq = spark.read.option(\"branch\", \"dq_branch\") \\\n",
    "    .format(\"iceberg\") \\\n",
    "    .load(\"nessie.businessdata\")\n",
    "\n",
    "# check for nulls\n",
    "null_counts = df_dq.select([F.count(F.when(F.col(c).isNull(), c)).alias(c) for c in df_dq.columns])\n",
    "\n",
    "null_counts.show()"
   ]
  },
  {
   "cell_type": "code",
   "execution_count": 154,
   "id": "293d7d5f",
   "metadata": {},
   "outputs": [
    {
     "name": "stderr",
     "output_type": "stream",
     "text": [
      "[Stage 207:>                                                        (0 + 1) / 1]\r"
     ]
    },
    {
     "name": "stdout",
     "output_type": "stream",
     "text": [
      "+-------------------+--------+--------+----+-----+---+---------------+----------+-----------------------+----------------------------------+-------+-------+--------+---------+------------+------------+---+---+---+\n",
      "|Business Name (DBA)|Address1|Address2|City|State|Zip|Community Board|NAICS Code|Number of Worker-Owners|Number of Non-Member Worker-Owners|Subtype|Borough|Latitude|Longitude|City Council|Census Tract|BIN|BBL|NTA|\n",
      "+-------------------+--------+--------+----+-----+---+---------------+----------+-----------------------+----------------------------------+-------+-------+--------+---------+------------+------------+---+---+---+\n",
      "+-------------------+--------+--------+----+-----+---+---------------+----------+-----------------------+----------------------------------+-------+-------+--------+---------+------------+------------+---+---+---+\n",
      "\n"
     ]
    },
    {
     "name": "stderr",
     "output_type": "stream",
     "text": [
      "                                                                                \r"
     ]
    }
   ],
   "source": [
    "# check for duplicates\n",
    "duplicates = df_dq.groupBy(df_dq.columns).count()\n",
    "duplicates = duplicates.filter(F.col(\"count\") > 1)\n",
    "duplicates = duplicates.drop(\"count\")\n",
    "duplicates.show()"
   ]
  },
  {
   "cell_type": "code",
   "execution_count": 155,
   "id": "a1ed03ae",
   "metadata": {},
   "outputs": [
    {
     "name": "stdout",
     "output_type": "stream",
     "text": [
      "All borough values are valid.\n"
     ]
    }
   ],
   "source": [
    "# check all boroughs are expected\n",
    "expected_boroughs = ['null', 'QUEENS', 'BROOKLYN', 'BRONX', 'STATEN IS', 'MANHATTAN']\n",
    "\n",
    "invalid_boroughs = df_dq.filter(~F.col('borough').isin(expected_boroughs))\n",
    "\n",
    "if invalid_boroughs.count() > 0:\n",
    "    print(\"There are invalid borough values in the DataFrame.\")\n",
    "    invalid_boroughs.show()\n",
    "else:\n",
    "    print(\"All borough values are valid.\")"
   ]
  },
  {
   "cell_type": "markdown",
   "id": "d4423750",
   "metadata": {},
   "source": [
    "### 4. Apply fixes"
   ]
  },
  {
   "cell_type": "code",
   "execution_count": 156,
   "id": "85b20cd0",
   "metadata": {},
   "outputs": [],
   "source": [
    "# drop nulls ~ etc"
   ]
  },
  {
   "cell_type": "code",
   "execution_count": 157,
   "id": "3b5f3df8",
   "metadata": {},
   "outputs": [
    {
     "name": "stdout",
     "output_type": "stream",
     "text": [
      "+-------------+\n",
      "|total_records|\n",
      "+-------------+\n",
      "|          298|\n",
      "+-------------+\n",
      "\n"
     ]
    }
   ],
   "source": [
    "spark.sql(\"SELECT COUNT(*) as total_records FROM nessie.businessdata VERSION AS OF 'dq_branch'\").show()"
   ]
  },
  {
   "cell_type": "code",
   "execution_count": 158,
   "id": "d4e29355",
   "metadata": {},
   "outputs": [
    {
     "name": "stdout",
     "output_type": "stream",
     "text": [
      "+-------------+\n",
      "|total_records|\n",
      "+-------------+\n",
      "|          154|\n",
      "+-------------+\n",
      "\n"
     ]
    }
   ],
   "source": [
    "spark.sql(\"SELECT COUNT(*) as total_records FROM nessie.businessdata VERSION AS OF 'main'\").show()"
   ]
  },
  {
   "cell_type": "markdown",
   "id": "4f52b763",
   "metadata": {},
   "source": [
    "### 5. Publish"
   ]
  },
  {
   "cell_type": "code",
   "execution_count": 159,
   "id": "acdfe7b8",
   "metadata": {},
   "outputs": [
    {
     "name": "stdout",
     "output_type": "stream",
     "text": [
      "+---------+------+-------------------+-----------------------+---------------------+----------------------+\n",
      "|     name|  type|        snapshot_id|max_reference_age_in_ms|min_snapshots_to_keep|max_snapshot_age_in_ms|\n",
      "+---------+------+-------------------+-----------------------+---------------------+----------------------+\n",
      "|     main|BRANCH|3872957193495449871|                   null|                 null|                  null|\n",
      "|dq_branch|BRANCH|6016868418583876394|                   null|                 null|                  null|\n",
      "+---------+------+-------------------+-----------------------+---------------------+----------------------+\n",
      "\n"
     ]
    }
   ],
   "source": [
    "spark.sql(\"SELECT * FROM nessie.businessdata.refs\").show()"
   ]
  },
  {
   "cell_type": "code",
   "execution_count": 160,
   "id": "aeb807b3",
   "metadata": {},
   "outputs": [
    {
     "name": "stdout",
     "output_type": "stream",
     "text": [
      "24/12/11 08:50:46 WARN BaseTransaction: Failed to load metadata for a committed snapshot, skipping clean-up\n",
      "+-------------------+-------------------+\n",
      "| source_snapshot_id|current_snapshot_id|\n",
      "+-------------------+-------------------+\n",
      "|6016868418583876394|6016868418583876394|\n",
      "+-------------------+-------------------+\n",
      "\n"
     ]
    }
   ],
   "source": [
    "spark.sql(\"CALL nessie.system.cherrypick_snapshot('nessie.businessdata',6016868418583876394)\").show()"
   ]
  },
  {
   "cell_type": "code",
   "execution_count": 166,
   "id": "8ae440c0",
   "metadata": {},
   "outputs": [
    {
     "name": "stdout",
     "output_type": "stream",
     "text": [
      "+-------------+\n",
      "|total_records|\n",
      "+-------------+\n",
      "|          298|\n",
      "+-------------+\n",
      "\n"
     ]
    }
   ],
   "source": [
    "spark.sql(\"SELECT COUNT(*) as total_records FROM nessie.businessdata\").show()"
   ]
  },
  {
   "cell_type": "code",
   "execution_count": 162,
   "id": "c24ad6e9",
   "metadata": {},
   "outputs": [],
   "source": [
    "# end wap session\n",
    "spark.conf.unset('spark.wap.branch')"
   ]
  },
  {
   "cell_type": "code",
   "execution_count": 163,
   "id": "fe76b1fc",
   "metadata": {},
   "outputs": [
    {
     "name": "stdout",
     "output_type": "stream",
     "text": [
      "24/12/11 08:51:10 WARN BaseTransaction: Failed to load metadata for a committed snapshot, skipping clean-up\n"
     ]
    },
    {
     "data": {
      "text/plain": [
       "DataFrame[]"
      ]
     },
     "execution_count": 163,
     "metadata": {},
     "output_type": "execute_result"
    }
   ],
   "source": [
    "spark.sql(\"ALTER TABLE nessie.businessdata DROP BRANCH `dq_branch`\")"
   ]
  }
 ],
 "metadata": {
  "kernelspec": {
   "display_name": "Python 3 (ipykernel)",
   "language": "python",
   "name": "python3"
  },
  "language_info": {
   "codemirror_mode": {
    "name": "ipython",
    "version": 3
   },
   "file_extension": ".py",
   "mimetype": "text/x-python",
   "name": "python",
   "nbconvert_exporter": "python",
   "pygments_lexer": "ipython3",
   "version": "3.10.6"
  }
 },
 "nbformat": 4,
 "nbformat_minor": 5
}
